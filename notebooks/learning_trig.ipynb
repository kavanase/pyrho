{
 "cells": [
  {
   "cell_type": "code",
   "execution_count": null,
   "metadata": {},
   "outputs": [],
   "source": [
    "import pyrho\n",
    "import numpy as np\n",
    "from matplotlib import pyplot as plt"
   ]
  },
  {
   "cell_type": "code",
   "execution_count": null,
   "metadata": {},
   "outputs": [],
   "source": [
    "def get_trig_function(A, B, m, n):\n",
    "    \"\"\"Return a trigonometric function of x and y.\"\"\"\n",
    "    def trig_function(x, y):\n",
    "        return A * np.sin(m * x * 2 * np.pi) * np.sin(n * y * 2 * np.pi) + B # V = A * n**2 + A * m**2 + B\n",
    "    return trig_function\n",
    "    \n",
    "f1 = get_trig_function(1, 0.1, 3, 1)"
   ]
  },
  {
   "cell_type": "code",
   "execution_count": null,
   "metadata": {},
   "outputs": [],
   "source": [
    "xx = np.linspace(0, 1, 512)\n",
    "yy = np.linspace(0, 1, 512)\n",
    "XX, YY = np.meshgrid(xx, yy, indexing=\"ij\")\n",
    "plt.imshow(f1(XX, YY))\n"
   ]
  },
  {
   "cell_type": "code",
   "execution_count": null,
   "metadata": {},
   "outputs": [],
   "source": [
    "from pyrho.pgrid import PGrid\n",
    "pgrid = PGrid(grid_data=f1(XX, YY), lattice=[[1, 0], [0, 1]])"
   ]
  },
  {
   "cell_type": "code",
   "execution_count": null,
   "metadata": {},
   "outputs": [],
   "source": [
    "pg2 = pgrid.get_transformed(sc_mat=[[2, 0], [0, 2]], origin=(0, 0), grid_out=(512, 512))"
   ]
  },
  {
   "cell_type": "code",
   "execution_count": null,
   "metadata": {},
   "outputs": [],
   "source": [
    "# get randomly oriented square lattice\n",
    "def get_random_square_lattice(side_length, uc_lattice):\n",
    "    \"\"\"Return a random square lattice.\"\"\"\n",
    "    theta = np.random.uniform(0, 2 * np.pi)\n",
    "    cube_latt = np.array([[np.cos(theta), -np.sin(theta)], [np.sin(theta), np.cos(theta)]]) * side_length\n",
    "    # return the cube lattice in terms of the unit cell lattice\n",
    "    return np.dot(cube_latt, np.linalg.inv(uc_lattice))\n",
    "\n"
   ]
  },
  {
   "cell_type": "code",
   "execution_count": null,
   "metadata": {},
   "outputs": [],
   "source": [
    "res = get_random_square_lattice(1.5, np.eye(2))\n",
    "pg2 = pgrid.get_transformed(sc_mat=res, origin=(0, 0), grid_out=(512, 512))\n",
    "plt.imshow(pg2.grid_data)"
   ]
  },
  {
   "cell_type": "code",
   "execution_count": null,
   "metadata": {},
   "outputs": [],
   "source": []
  },
  {
   "cell_type": "code",
   "execution_count": null,
   "metadata": {},
   "outputs": [],
   "source": [
    "for i in range(5):\n",
    "    res = get_random_square_lattice(1.5, np.eye(2))\n",
    "    pg2 = pgrid.get_transformed(sc_mat=res, origin=(0, 0), grid_out=(512, 512))\n",
    "    res = get_random_square_lattice(2.0, np.eye(2))\n",
    "    pg2 = pgrid.get_transformed(sc_mat=res, origin=(0, 0), grid_out=(512, 512))\n",
    "    fres = np.abs(np.fft.fft2(pg2.grid_data))\n",
    "    fres = np.fft.fftshift(fres)\n",
    "    width = 10\n",
    "    fig, (ax1, ax2) = plt.subplots(1, 2, figsize=(10, 7))\n",
    "    ax1.imshow(fres[256-width:256+width, 256-width:256+width], vmin=0, vmax=3E4)\n",
    "    ax2.imshow(pg2.grid_data)"
   ]
  },
  {
   "cell_type": "code",
   "execution_count": null,
   "metadata": {},
   "outputs": [],
   "source": []
  },
  {
   "cell_type": "code",
   "execution_count": null,
   "metadata": {},
   "outputs": [],
   "source": []
  },
  {
   "cell_type": "code",
   "execution_count": null,
   "metadata": {},
   "outputs": [],
   "source": []
  },
  {
   "cell_type": "code",
   "execution_count": null,
   "metadata": {},
   "outputs": [],
   "source": []
  }
 ],
 "metadata": {
  "kernelspec": {
   "display_name": "Python 3.10.4 ('mp')",
   "language": "python",
   "name": "python3"
  },
  "language_info": {
   "codemirror_mode": {
    "name": "ipython",
    "version": 3
   },
   "file_extension": ".py",
   "mimetype": "text/x-python",
   "name": "python",
   "nbconvert_exporter": "python",
   "pygments_lexer": "ipython3",
   "version": "3.10.4"
  },
  "vscode": {
   "interpreter": {
    "hash": "2d6ae331a7941ec26e1f71fb3e3784fd6821e9558b545b35bff0f95d1fd9faf9"
   }
  }
 },
 "nbformat": 4,
 "nbformat_minor": 2
}
